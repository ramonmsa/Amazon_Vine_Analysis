{
  "nbformat": 4,
  "nbformat_minor": 0,
  "metadata": {
    "colab": {
      "name": "Amazon_Reviews_ETL.ipynb",
      "provenance": []
    },
    "kernelspec": {
      "name": "python3",
      "display_name": "Python 3"
    },
    "nteract": {
      "version": "0.12.3"
    },
    "language_info": {
      "name": "python"
    }
  },
  "cells": [
    {
      "cell_type": "code",
      "metadata": {
        "id": "V58rxea0HqSa",
        "colab": {
          "base_uri": "https://localhost:8080/"
        },
        "outputId": "f3640117-0108-43c2-d9c4-52201d326166"
      },
      "source": [
        "import os\n",
        "# Find the latest version of spark 3.0 from http://www.apache.org/dist/spark/ and enter as the spark version\n",
        "# For example:\n",
        "# spark_version = 'spark-3.0.3'\n",
        "spark_version = 'spark-3.0.3'\n",
        "os.environ['SPARK_VERSION']=spark_version\n",
        "\n",
        "# Install Spark and Java\n",
        "!apt-get update\n",
        "!apt-get install openjdk-11-jdk-headless -qq > /dev/null\n",
        "!wget -q http://www.apache.org/dist/spark/$SPARK_VERSION/$SPARK_VERSION-bin-hadoop2.7.tgz\n",
        "!tar xf $SPARK_VERSION-bin-hadoop2.7.tgz\n",
        "!pip install -q findspark\n",
        "\n",
        "# Set Environment Variables\n",
        "import os\n",
        "os.environ[\"JAVA_HOME\"] = \"/usr/lib/jvm/java-11-openjdk-amd64\"\n",
        "os.environ[\"SPARK_HOME\"] = f\"/content/{spark_version}-bin-hadoop2.7\"\n",
        "\n",
        "# Start a SparkSession\n",
        "import findspark\n",
        "findspark.init()"
      ],
      "execution_count": null,
      "outputs": [
        {
          "output_type": "stream",
          "name": "stdout",
          "text": [
            "Get:1 http://security.ubuntu.com/ubuntu bionic-security InRelease [88.7 kB]\n",
            "Ign:2 https://developer.download.nvidia.com/compute/cuda/repos/ubuntu1804/x86_64  InRelease\n",
            "Get:3 https://cloud.r-project.org/bin/linux/ubuntu bionic-cran40/ InRelease [3,626 B]\n",
            "Hit:4 http://ppa.launchpad.net/c2d4u.team/c2d4u4.0+/ubuntu bionic InRelease\n",
            "Ign:5 https://developer.download.nvidia.com/compute/machine-learning/repos/ubuntu1804/x86_64  InRelease\n",
            "Hit:6 https://developer.download.nvidia.com/compute/cuda/repos/ubuntu1804/x86_64  Release\n",
            "Hit:7 http://archive.ubuntu.com/ubuntu bionic InRelease\n",
            "Hit:8 https://developer.download.nvidia.com/compute/machine-learning/repos/ubuntu1804/x86_64  Release\n",
            "Get:9 http://archive.ubuntu.com/ubuntu bionic-updates InRelease [88.7 kB]\n",
            "Hit:10 http://ppa.launchpad.net/cran/libgit2/ubuntu bionic InRelease\n",
            "Hit:11 http://ppa.launchpad.net/deadsnakes/ppa/ubuntu bionic InRelease\n",
            "Get:12 http://security.ubuntu.com/ubuntu bionic-security/universe amd64 Packages [1,431 kB]\n",
            "Get:13 http://archive.ubuntu.com/ubuntu bionic-backports InRelease [74.6 kB]\n",
            "Hit:14 http://ppa.launchpad.net/graphics-drivers/ppa/ubuntu bionic InRelease\n",
            "Get:17 http://archive.ubuntu.com/ubuntu bionic-updates/main amd64 Packages [2,801 kB]\n",
            "Get:18 http://archive.ubuntu.com/ubuntu bionic-updates/universe amd64 Packages [2,210 kB]\n",
            "Fetched 6,698 kB in 5s (1,296 kB/s)\n",
            "Reading package lists... Done\n"
          ]
        }
      ]
    },
    {
      "cell_type": "code",
      "metadata": {
        "id": "_xKwTpATHqSe",
        "colab": {
          "base_uri": "https://localhost:8080/"
        },
        "outputId": "d9ad1ba5-d595-4588-cdb2-c7e9f4f937cf"
      },
      "source": [
        "# Download the Postgres driver that will allow Spark to interact with Postgres.\n",
        "!wget https://jdbc.postgresql.org/download/postgresql-42.2.16.jar"
      ],
      "execution_count": null,
      "outputs": [
        {
          "output_type": "stream",
          "name": "stdout",
          "text": [
            "--2021-10-11 23:59:59--  https://jdbc.postgresql.org/download/postgresql-42.2.16.jar\n",
            "Resolving jdbc.postgresql.org (jdbc.postgresql.org)... 72.32.157.228, 2001:4800:3e1:1::228\n",
            "Connecting to jdbc.postgresql.org (jdbc.postgresql.org)|72.32.157.228|:443... connected.\n",
            "HTTP request sent, awaiting response... 200 OK\n",
            "Length: 1002883 (979K) [application/java-archive]\n",
            "Saving to: ‘postgresql-42.2.16.jar’\n",
            "\n",
            "postgresql-42.2.16. 100%[===================>] 979.38K  --.-KB/s    in 0.1s    \n",
            "\n",
            "2021-10-11 23:59:59 (6.60 MB/s) - ‘postgresql-42.2.16.jar’ saved [1002883/1002883]\n",
            "\n"
          ]
        }
      ]
    },
    {
      "cell_type": "code",
      "metadata": {
        "id": "MMqDAjVS0KN9"
      },
      "source": [
        "from pyspark.sql import SparkSession\n",
        "spark = SparkSession.builder.appName(\"M16-Amazon-Challenge\").config(\"spark.driver.extraClassPath\",\"/content/postgresql-42.2.16.jar\").getOrCreate()"
      ],
      "execution_count": null,
      "outputs": []
    },
    {
      "cell_type": "markdown",
      "metadata": {
        "id": "cyBsySGuY-9V"
      },
      "source": [
        "### Load Amazon Data into Spark DataFrame"
      ]
    },
    {
      "cell_type": "code",
      "metadata": {
        "id": "CtCmBhQJY-9Z",
        "colab": {
          "base_uri": "https://localhost:8080/"
        },
        "outputId": "b6ec1cf4-8150-4071-d4e4-886398e361d7"
      },
      "source": [
        "from pyspark import SparkFiles\n",
        "url = \"https://s3.amazonaws.com/amazon-reviews-pds/tsv/amazon_reviews_us_Books_v1_00.tsv.gz\"\n",
        "spark.sparkContext.addFile(url)\n",
        "df = spark.read.option(\"encoding\", \"UTF-8\").csv(SparkFiles.get(\"\"), sep=\"\\t\", header=True, inferSchema=True)\n",
        "df.show()"
      ],
      "execution_count": null,
      "outputs": [
        {
          "output_type": "stream",
          "name": "stdout",
          "text": [
            "+-----------+-----------+--------------+----------+--------------+--------------------+----------------+-----------+-------------+-----------+----+-----------------+--------------------+--------------------+-----------+\n",
            "|marketplace|customer_id|     review_id|product_id|product_parent|       product_title|product_category|star_rating|helpful_votes|total_votes|vine|verified_purchase|     review_headline|         review_body|review_date|\n",
            "+-----------+-----------+--------------+----------+--------------+--------------------+----------------+-----------+-------------+-----------+----+-----------------+--------------------+--------------------+-----------+\n",
            "|         US|   25933450| RJOVP071AVAJO|0439873800|      84656342|There Was an Old ...|           Books|          5|            0|          0|   N|                Y|          Five Stars|I love it and so ...| 2015-08-31|\n",
            "|         US|    1801372|R1ORGBETCDW3AI|1623953553|     729938122|      I Saw a Friend|           Books|          5|            0|          0|   N|                Y|Please buy \"I Saw...|My wife and I ord...| 2015-08-31|\n",
            "|         US|    5782091| R7TNRFQAOUTX5|142151981X|     678139048|Black Lagoon, Vol. 6|           Books|          5|            0|          0|   N|                Y|       Shipped fast.|Great book just l...| 2015-08-31|\n",
            "|         US|   32715830|R2GANXKDIFZ6OI|014241543X|     712432151|           If I Stay|           Books|          5|            0|          0|   N|                N|          Five Stars|        So beautiful| 2015-08-31|\n",
            "|         US|   14005703|R2NYB6C3R8LVN6|1604600527|     800572372|Stars 'N Strips F...|           Books|          5|            2|          2|   N|                Y|          Five Stars|Enjoyed the autho...| 2015-08-31|\n",
            "|         US|   36205738|R13U5PBJI1H94K|0399170863|     559876774|            The Liar|           Books|          2|            1|          1|   N|                N|PREDICTABLE ALMOS...|Two or three page...| 2015-08-31|\n",
            "|         US|   44121167|R1H8UVH990F8VE|1517007240|     299984591|Devil in the Deta...|           Books|          5|            2|          2|   N|                N|The Monastery Mur...|&#34;Secrets in t...| 2015-08-31|\n",
            "|         US|   16519255|R2MC0N30WZMRQ5|0671728725|     821650353|Knowing When to S...|           Books|          5|            0|          0|   N|                Y|          Five Stars|          I love it!| 2015-08-31|\n",
            "|         US|   49361350| R2NO2HXK16Y4J|1111349533|     419457767|The American Pageant|           Books|          5|            0|          0|   N|                Y|          Five Stars|It was a great pu...| 2015-08-31|\n",
            "|         US|   11423253|R245YIAVJK82ZL|812211637X|     285887177|Punjabi C.L. Bibl...|           Books|          5|            0|          0|   N|                Y|          Five Stars|Quality product f...| 2015-08-31|\n",
            "|         US|   37536260| RFBMLBWQOZ1UM|0679413359|      58983679|The Aeneid (Every...|           Books|          5|            0|          0|   N|                Y|          Five Stars|          Very happy| 2015-08-31|\n",
            "|         US|   23614950| RHE1FEWV3KTQH|0983990662|     222024699|The YMCA of Middl...|           Books|          5|            0|          0|   N|                Y|Great history boo...|Love reading all ...| 2015-08-31|\n",
            "|         US|   12641855|R2BB9U7PHO7ETO|156852062X|     388128348|Memoirs By Harry ...|           Books|          5|            0|          1|   N|                Y|          Five Stars|such a great purc...| 2015-08-31|\n",
            "|         US|   36327169|R28XJJP754GYXO|B0007E4WJ4|     842975364|Arms of our fight...|           Books|          4|            0|          0|   N|                Y|          Four Stars|book was fine Tha...| 2015-08-31|\n",
            "|         US|   49735028|R2G519UREHRO8M|0664254969|     248307276|Presbyterian Cree...|           Books|          3|            0|          1|   N|                Y|The Presbyterian ...|The Presbyterian ...| 2015-08-31|\n",
            "|         US|   39348901| RPBKCEIN3UISD|1570913722|       9340721|Hello Ocean/Hola mar|           Books|          5|            0|          0|   N|                Y|          Five Stars|beautiful work an...| 2015-08-31|\n",
            "|         US|    5782091|R2DOB8482VGJ8W|0345313860|     630892090|The Vampire Lesta...|           Books|          5|            0|          0|   N|                Y|       Shipped fast.|This is my favori...| 2015-08-31|\n",
            "|         US|   30063158|R2XKOET5M8W36S|0670025593|     479521754|The Book of Life ...|           Books|          5|            0|          0|   N|                Y|One of my favorites!|Love Deborah Harn...| 2015-08-31|\n",
            "|         US|     125518|R377BCSTZ4D2QP|161893158X|     399670838|Disney Descendant...|           Books|          5|            1|          1|   N|                Y|... has all three...|Now my daughter h...| 2015-08-31|\n",
            "|         US|   22297413|R3A39XZ5SB97MK|007179512X|      47243107|CompTIA A+ Certif...|           Books|          5|            0|          0|   N|                Y|He said it has be...|Bought this book ...| 2015-08-31|\n",
            "+-----------+-----------+--------------+----------+--------------+--------------------+----------------+-----------+-------------+-----------+----+-----------------+--------------------+--------------------+-----------+\n",
            "only showing top 20 rows\n",
            "\n"
          ]
        }
      ]
    },
    {
      "cell_type": "markdown",
      "metadata": {
        "id": "2yUSe55VY-9t"
      },
      "source": [
        "### Create DataFrames to match tables"
      ]
    },
    {
      "cell_type": "code",
      "metadata": {
        "id": "C8REmY1aY-9u"
      },
      "source": [
        "from pyspark.sql.functions import to_date\n",
        "# Read in the Review dataset as a DataFrame\n"
      ],
      "execution_count": null,
      "outputs": []
    },
    {
      "cell_type": "code",
      "metadata": {
        "id": "B0TESUDRY-90",
        "colab": {
          "base_uri": "https://localhost:8080/"
        },
        "outputId": "53ef8c4b-7c8e-4e93-97d6-7fb3800fbc4a"
      },
      "source": [
        "# Create the customers_table DataFrame\n",
        "customers_df = df.groupby(\"customer_id\").agg({\"customer_id\":\"count\"}).withColumnRenamed(\"count(customer_id)\", \"customer_count\")\n",
        "customers_df.show()"
      ],
      "execution_count": null,
      "outputs": [
        {
          "output_type": "stream",
          "name": "stdout",
          "text": [
            "+-----------+--------------+\n",
            "|customer_id|customer_count|\n",
            "+-----------+--------------+\n",
            "|   16747249|             4|\n",
            "|     108460|             1|\n",
            "|   11720077|            31|\n",
            "|     437936|             1|\n",
            "|     128131|             1|\n",
            "|   39647402|             1|\n",
            "|   13730111|             8|\n",
            "|   43783459|             1|\n",
            "|   12493167|           111|\n",
            "|   40325486|            92|\n",
            "|   44618558|             4|\n",
            "|   17956020|             1|\n",
            "|   10093406|             3|\n",
            "|   40430762|             1|\n",
            "|     134924|             1|\n",
            "|   52427934|             1|\n",
            "|   12879980|            15|\n",
            "|   27680937|             7|\n",
            "|   16186289|             1|\n",
            "|   20326078|             1|\n",
            "+-----------+--------------+\n",
            "only showing top 20 rows\n",
            "\n"
          ]
        }
      ]
    },
    {
      "cell_type": "code",
      "metadata": {
        "id": "4FwXA6UvY-96",
        "colab": {
          "base_uri": "https://localhost:8080/"
        },
        "outputId": "a7d41d78-2cbb-429e-f0d9-1b41b96149cc"
      },
      "source": [
        "# Create the products_table DataFrame and drop duplicates. \n",
        "products_df = df.select([\"product_id\",\"product_title\"]).drop_duplicates([\"product_id\"])\n",
        "products_df.show()"
      ],
      "execution_count": null,
      "outputs": [
        {
          "output_type": "stream",
          "name": "stdout",
          "text": [
            "+----------+--------------------+\n",
            "|product_id|       product_title|\n",
            "+----------+--------------------+\n",
            "|0001845357|    Ballad of Favour|\n",
            "|0002168383|The Beatles: For ...|\n",
            "|0002192365| Cage & Aviary Birds|\n",
            "|0002216973|     Red Adam's Lady|\n",
            "|0002230534|A single death: A...|\n",
            "|0002234947|Miss Hobbema Pageant|\n",
            "|0002261367|Unexpected Blessings|\n",
            "|0006541151|Order Out of Chao...|\n",
            "|0006544150|           In Xanadu|\n",
            "|0006726372|I'll Go My Own Wa...|\n",
            "|0006925227|The Vanishing Tre...|\n",
            "|0007121040|Miss Marple's Fin...|\n",
            "|0007155174|The Treasure Hunt...|\n",
            "|000717201X|The Lord of the R...|\n",
            "|0007178484|Reading \"Lolita\" ...|\n",
            "|000718025X|Akbar and Jeff's ...|\n",
            "|0007219040|The Secret Langua...|\n",
            "|0007236093|  Dead Witch Walking|\n",
            "|0007243626|The Yacoubian Bui...|\n",
            "|0007255349|The Mobile Librar...|\n",
            "+----------+--------------------+\n",
            "only showing top 20 rows\n",
            "\n"
          ]
        }
      ]
    },
    {
      "cell_type": "code",
      "metadata": {
        "id": "MkqyCuNQY-9-",
        "colab": {
          "base_uri": "https://localhost:8080/"
        },
        "outputId": "3cce4b4d-04ee-44ee-d1ec-35c37dd18070"
      },
      "source": [
        "# Create the review_id_table DataFrame. \n",
        "# Convert the 'review_date' column to a date datatype with to_date(\"review_date\", 'yyyy-MM-dd').alias(\"review_date\")\n",
        "review_id_df = df.select([\"review_id\",\"customer_id\",\"product_id\",\"product_parent\", to_date(\"review_date\", 'yyyy-MM-dd').alias(\"review_date\")])\n",
        "review_id_df.show()"
      ],
      "execution_count": null,
      "outputs": [
        {
          "output_type": "stream",
          "name": "stdout",
          "text": [
            "+--------------+-----------+----------+--------------+-----------+\n",
            "|     review_id|customer_id|product_id|product_parent|review_date|\n",
            "+--------------+-----------+----------+--------------+-----------+\n",
            "| RJOVP071AVAJO|   25933450|0439873800|      84656342| 2015-08-31|\n",
            "|R1ORGBETCDW3AI|    1801372|1623953553|     729938122| 2015-08-31|\n",
            "| R7TNRFQAOUTX5|    5782091|142151981X|     678139048| 2015-08-31|\n",
            "|R2GANXKDIFZ6OI|   32715830|014241543X|     712432151| 2015-08-31|\n",
            "|R2NYB6C3R8LVN6|   14005703|1604600527|     800572372| 2015-08-31|\n",
            "|R13U5PBJI1H94K|   36205738|0399170863|     559876774| 2015-08-31|\n",
            "|R1H8UVH990F8VE|   44121167|1517007240|     299984591| 2015-08-31|\n",
            "|R2MC0N30WZMRQ5|   16519255|0671728725|     821650353| 2015-08-31|\n",
            "| R2NO2HXK16Y4J|   49361350|1111349533|     419457767| 2015-08-31|\n",
            "|R245YIAVJK82ZL|   11423253|812211637X|     285887177| 2015-08-31|\n",
            "| RFBMLBWQOZ1UM|   37536260|0679413359|      58983679| 2015-08-31|\n",
            "| RHE1FEWV3KTQH|   23614950|0983990662|     222024699| 2015-08-31|\n",
            "|R2BB9U7PHO7ETO|   12641855|156852062X|     388128348| 2015-08-31|\n",
            "|R28XJJP754GYXO|   36327169|B0007E4WJ4|     842975364| 2015-08-31|\n",
            "|R2G519UREHRO8M|   49735028|0664254969|     248307276| 2015-08-31|\n",
            "| RPBKCEIN3UISD|   39348901|1570913722|       9340721| 2015-08-31|\n",
            "|R2DOB8482VGJ8W|    5782091|0345313860|     630892090| 2015-08-31|\n",
            "|R2XKOET5M8W36S|   30063158|0670025593|     479521754| 2015-08-31|\n",
            "|R377BCSTZ4D2QP|     125518|161893158X|     399670838| 2015-08-31|\n",
            "|R3A39XZ5SB97MK|   22297413|007179512X|      47243107| 2015-08-31|\n",
            "+--------------+-----------+----------+--------------+-----------+\n",
            "only showing top 20 rows\n",
            "\n"
          ]
        }
      ]
    },
    {
      "cell_type": "code",
      "metadata": {
        "id": "lzMmkdKmY--D",
        "colab": {
          "base_uri": "https://localhost:8080/"
        },
        "outputId": "3b342f2e-e607-40b7-949f-1c6a500ba91e"
      },
      "source": [
        "from pyspark.sql.types import IntegerType\n",
        "\n",
        "# Create the vine_table. DataFrame\n",
        "vine_df = df.select([\"review_id\",\"star_rating\",\"helpful_votes\",\"total_votes\",\"vine\",\"verified_purchase\"])\n",
        "vine_df = vine_df.withColumn(\"star_rating\",vine_df.star_rating.cast(IntegerType()))\n",
        "vine_df.show()"
      ],
      "execution_count": null,
      "outputs": [
        {
          "output_type": "stream",
          "name": "stdout",
          "text": [
            "+--------------+-----------+-------------+-----------+----+-----------------+\n",
            "|     review_id|star_rating|helpful_votes|total_votes|vine|verified_purchase|\n",
            "+--------------+-----------+-------------+-----------+----+-----------------+\n",
            "| RJOVP071AVAJO|          5|            0|          0|   N|                Y|\n",
            "|R1ORGBETCDW3AI|          5|            0|          0|   N|                Y|\n",
            "| R7TNRFQAOUTX5|          5|            0|          0|   N|                Y|\n",
            "|R2GANXKDIFZ6OI|          5|            0|          0|   N|                N|\n",
            "|R2NYB6C3R8LVN6|          5|            2|          2|   N|                Y|\n",
            "|R13U5PBJI1H94K|          2|            1|          1|   N|                N|\n",
            "|R1H8UVH990F8VE|          5|            2|          2|   N|                N|\n",
            "|R2MC0N30WZMRQ5|          5|            0|          0|   N|                Y|\n",
            "| R2NO2HXK16Y4J|          5|            0|          0|   N|                Y|\n",
            "|R245YIAVJK82ZL|          5|            0|          0|   N|                Y|\n",
            "| RFBMLBWQOZ1UM|          5|            0|          0|   N|                Y|\n",
            "| RHE1FEWV3KTQH|          5|            0|          0|   N|                Y|\n",
            "|R2BB9U7PHO7ETO|          5|            0|          1|   N|                Y|\n",
            "|R28XJJP754GYXO|          4|            0|          0|   N|                Y|\n",
            "|R2G519UREHRO8M|          3|            0|          1|   N|                Y|\n",
            "| RPBKCEIN3UISD|          5|            0|          0|   N|                Y|\n",
            "|R2DOB8482VGJ8W|          5|            0|          0|   N|                Y|\n",
            "|R2XKOET5M8W36S|          5|            0|          0|   N|                Y|\n",
            "|R377BCSTZ4D2QP|          5|            1|          1|   N|                Y|\n",
            "|R3A39XZ5SB97MK|          5|            0|          0|   N|                Y|\n",
            "+--------------+-----------+-------------+-----------+----+-----------------+\n",
            "only showing top 20 rows\n",
            "\n"
          ]
        }
      ]
    },
    {
      "cell_type": "markdown",
      "metadata": {
        "id": "jITZhLkmY--J"
      },
      "source": [
        "### Connect to the AWS RDS instance and write each DataFrame to its table. "
      ]
    },
    {
      "cell_type": "code",
      "metadata": {
        "id": "7jiUvs1aY--L"
      },
      "source": [
        "# Configure settings for RDS\n",
        "mode = \"append\"\n",
        "jdbc_url=\"jdbc:postgresql://<sensitiveinformation>:5432/<sensitiveinformation>\"\n",
        "config = {\"user\":\"postgres\", \n",
        "          \"password\": \"<sensitiveinformation>\", \n",
        "          \"driver\":\"org.postgresql.Driver\"}"
      ],
      "execution_count": null,
      "outputs": []
    },
    {
      "cell_type": "code",
      "metadata": {
        "id": "T2zgZ-aKY--Q"
      },
      "source": [
        "# Write review_id_df to table in RDS\n",
        "review_id_df.write.jdbc(url=jdbc_url, table='review_id_table', mode=mode, properties=config)"
      ],
      "execution_count": null,
      "outputs": []
    },
    {
      "cell_type": "code",
      "metadata": {
        "id": "1m3yzn-LY--U"
      },
      "source": [
        "# Write products_df to table in RDS\n",
        "# about 3 min\n",
        "products_df.write.jdbc(url=jdbc_url, table='products_table', mode=mode, properties=config)"
      ],
      "execution_count": null,
      "outputs": []
    },
    {
      "cell_type": "code",
      "metadata": {
        "id": "KbXri15fY--Z"
      },
      "source": [
        "# Write customers_df to table in RDS\n",
        "# 5 min 14 s\n",
        "customers_df.write.jdbc(url=jdbc_url, table='customers_table', mode=mode, properties=config)"
      ],
      "execution_count": null,
      "outputs": []
    },
    {
      "cell_type": "code",
      "metadata": {
        "id": "XdQknSHLY--e"
      },
      "source": [
        "# Write vine_df to table in RDS\n",
        "# 11 minutes\n",
        "vine_df.write.jdbc(url=jdbc_url, table='vine_table', mode=mode, properties=config)"
      ],
      "execution_count": null,
      "outputs": []
    },
    {
      "cell_type": "code",
      "metadata": {
        "id": "Exuo6ebUsCqW"
      },
      "source": [
        ""
      ],
      "execution_count": null,
      "outputs": []
    }
  ]
}